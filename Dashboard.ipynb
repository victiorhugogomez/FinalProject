{
 "cells": [
  {
   "cell_type": "markdown",
   "id": "43cffe1e",
   "metadata": {},
   "source": [
    "# FINAL PROJECT\n",
    "\n",
    "**Names:** -- Diana Zepeda Tatengo and Victor Hugo Gomez Soto --\n",
    "\n",
    "**e-mails:** -- diana.zepeda6085@alumnos.udg.mx and victor.gomez2701@alumnos.udg.mx --"
   ]
  },
  {
   "cell_type": "markdown",
   "id": "2a5cfad8",
   "metadata": {},
   "source": [
    "# CLIMATE DATA ANALYSIS"
   ]
  },
  {
   "cell_type": "markdown",
   "id": "d13e645e",
   "metadata": {},
   "source": [
    "Climate data analysis is essential for understanding weather patterns and their impact on ecosystems and society. Factors such as temperature, precipitation, and humidity influence natural phenomena like droughts, floods, and river flow.\n",
    "\n",
    "This notebook aims to visualize and analyze climate data in Brazil, focusing on the relationship between precipitation and river flow. Using data visualization tools and descriptive statistics, we will identify trends and possible anomalies."
   ]
  },
  {
   "cell_type": "markdown",
   "id": "0d72345f",
   "metadata": {},
   "source": [
    "## Dataset Description"
   ]
  },
  {
   "cell_type": "markdown",
   "id": "35892376",
   "metadata": {},
   "source": [
    "The dataset contains daily climate records with the following variables:\n",
    "* **Year, Month, Day** 📅 → Date components for time-based analysis.  \n",
    "* **p_ens (mm)** 🌧️ → Total rainfall per day.  \n",
    "* **tmin_ens (°C)** ❄️ → Daily minimum temperature.  \n",
    "* **tmax_ens (°C)** 🔥 → Daily maximum temperature.  \n",
    "* **rh_ens (%)** 💧 → Atmospheric moisture level.  \n",
    "* **wnd_ens (m/s)** 💨 → Wind speed at measurement time.  \n",
    "* **srad_ens (W/m²)** ☀️ → Sunlight energy received per unit area.  \n",
    "* **et_ens (mm)** 🌿 → Water loss due to evaporation and plant transpiration.  \n",
    "* **pet_pm (mm)** 🌫️ → Potential evapotranspiration (Penman-Monteith model).  \n",
    "* **pet_pt (mm)** 🌫️ → Potential evapotranspiration (Priestley-Taylor model).  \n",
    "* **pet_hg (mm)** 🌫️ → Potential evapotranspiration (Hargreaves model).  \n",
    "* **Streamflow (m³/s)** 🌊 → Water discharge in rivers or streams.  \n",
    "* **Quality** ✅ → Data reliability or measurement accuracy indicator.  \n"
   ]
  },
  {
   "cell_type": "markdown",
   "id": "372ca59e",
   "metadata": {},
   "source": [
    "## Data Visualization Methods"
   ]
  },
  {
   "cell_type": "markdown",
   "id": "b47fd561",
   "metadata": {},
   "source": [
    "### Time Series Plot 📈\n",
    "\n",
    "* Displays the evolution of variables over time to identify trends and anomalies.\n",
    "* Uses date as the x-axis and selected variables as the y-axis.\n",
    "* Allows comparison between multiple variables.\n",
    "\n",
    "### Correlation Heatmap 🔥\n",
    "* Shows relationships between numerical variables using a color-coded matrix.\n",
    "* Helps identify strong positive or negative correlations.\n",
    "\n",
    "### Scatter Plot 🎯 (if a comparison variable is selected)\n",
    "* Visualizes the relationship between two numerical variables.\n",
    "* Useful for detecting clusters, patterns, or linear trends.\n",
    "\n",
    "### Box Plot 📦\n",
    "* Displays data distribution, including median, quartiles, and outliers.\n",
    "* Helps detect variability and anomalies in the dataset.\n",
    "\n",
    "### Monthly Average Bar Chart 📊\n",
    "* Groups data by month to show seasonal patterns.\n",
    "* Useful for analyzing monthly trends in climate variables.\n",
    "\n",
    "These visualizations enhance data exploration, making it easier to detect trends and relationships."
   ]
  },
  {
   "cell_type": "markdown",
   "id": "4be76906",
   "metadata": {},
   "source": [
    "# MODULES"
   ]
  },
  {
   "cell_type": "code",
   "execution_count": 7,
   "id": "a77ecdce",
   "metadata": {},
   "outputs": [],
   "source": [
    "import pandas as pd\n",
    "import ipywidgets as widgets\n",
    "from IPython.display import display, HTML\n",
    "import matplotlib.pyplot as plt\n",
    "import seaborn as sns\n",
    "from datetime import datetime"
   ]
  },
  {
   "cell_type": "markdown",
   "id": "f88daed0",
   "metadata": {},
   "source": [
    "# FUNCTIONS"
   ]
  },
  {
   "cell_type": "code",
   "execution_count": 8,
   "id": "61181451",
   "metadata": {},
   "outputs": [],
   "source": [
    "# Función de carga\n",
    "def on_file_upload(change):\n",
    "    global df_global\n",
    "    output_info.clear_output()\n",
    "    output_table.clear_output()\n",
    "    output_plot.clear_output()\n",
    "\n",
    "    if upload.value:\n",
    "        uploaded_file = upload.value[0]\n",
    "        content = uploaded_file['content']\n",
    "        filename = uploaded_file['name']\n",
    "\n",
    "        try:\n",
    "            if filename.endswith('.csv'):\n",
    "                df = pd.read_csv(pd.io.common.BytesIO(content))\n",
    "            else:\n",
    "                df = pd.read_excel(pd.io.common.BytesIO(content))\n",
    "\n",
    "            df.columns = df.columns.str.strip()\n",
    "\n",
    "            if all(col in df.columns for col in [\"Year\", \"Month\", \"Day\"]):\n",
    "                df[\"Fecha\"] = pd.to_datetime(df[[\"Year\", \"Month\", \"Day\"]])\n",
    "                df = df.sort_values(\"Fecha\")\n",
    "            else:\n",
    "                raise ValueError(\"The columns 'Year', 'Month' y 'Day' are required.\")\n",
    "\n",
    "            df_global = df\n",
    "\n",
    "            columnas_numericas = df.select_dtypes(include='number').columns.tolist()\n",
    "            columnas_numericas = [col for col in columnas_numericas if col not in [\"Year\", \"Month\", \"Day\"]]\n",
    "            column_selector.options = columnas_numericas\n",
    "            compare_with_selector.options = columnas_numericas\n",
    "            if columnas_numericas:\n",
    "                column_selector.value = tuple(columnas_numericas[:1])\n",
    "                compare_with_selector.value = columnas_numericas[1] if len(columnas_numericas) > 1 else None\n",
    "\n",
    "            fechas_unicas = df[\"Fecha\"].sort_values().unique()\n",
    "            date_range.options = list(fechas_unicas)\n",
    "            date_range.value = (fechas_unicas[0], fechas_unicas[-1])\n",
    "\n",
    "            with output_info:\n",
    "                print(f\"✅ File Uploaded: {filename}\")\n",
    "        except Exception as e:\n",
    "            with output_info:\n",
    "                print(f\"❌ Error: {e}\")\n",
    "\n",
    "def visualizar_datos(*args):\n",
    "    output_table.clear_output()\n",
    "    output_plot.clear_output()\n",
    "    stats_plot.clear_output() \n",
    "\n",
    "    if df_global is None or not column_selector.value:\n",
    "        return\n",
    "\n",
    "    columnas = list(column_selector.value)\n",
    "    comparar_con = compare_with_selector.value\n",
    "\n",
    "    try:\n",
    "        df = df_global[[\"Fecha\"] + columnas].copy().dropna()\n",
    "        if comparar_con:\n",
    "            df[comparar_con] = df_global[comparar_con]\n",
    "\n",
    "        fecha_inicio, fecha_fin = date_range.value\n",
    "        df = df[(df[\"Fecha\"] >= fecha_inicio) & (df[\"Fecha\"] <= fecha_fin)]\n",
    "\n",
    "        with output_table:\n",
    "            display(df.head(10))\n",
    "\n",
    "        with stats_plot:                \n",
    "            columnas_a_mostrar = list(columnas)  # Copy selected columns\n",
    "            if comparar_con:  #  if there is a comparison\n",
    "                columnas_a_mostrar.append(comparar_con)            \n",
    "            # Calculate stats      \n",
    "            stats = df[columnas_a_mostrar].agg(['mean', 'median', 'std'])         \n",
    "            display(stats)\n",
    "\n",
    "        with output_plot:\n",
    "            # Temporal Series\n",
    "            plt.figure(figsize=(12, 4))\n",
    "            for col in columnas:\n",
    "                plt.plot(df[\"Fecha\"], df[col], label=col)\n",
    "            if comparar_con:\n",
    "                plt.plot(df[\"Fecha\"], df[comparar_con], label=comparar_con, linestyle=\"--\")\n",
    "            plt.title(\"Temporal Series\")\n",
    "            plt.xlabel(\"Date\")\n",
    "            plt.ylabel(\"Value\")\n",
    "            plt.legend()\n",
    "            plt.grid(True)\n",
    "            plt.tight_layout()\n",
    "            plt.show()\n",
    "\n",
    "            # Create a grid of 2 rows and 2 columns for the subplots.\n",
    "            fig, axs = plt.subplots(2, 2, figsize=(12, 10))\n",
    "            # Adjust the spacing between the subplots.\n",
    "            plt.subplots_adjust(hspace=0.3, wspace=0.3)                              \n",
    "\n",
    "            # Correlation Heatmap\n",
    "            sns.heatmap(df[columnas + ([comparar_con] if comparar_con else [])].corr(), annot=True, cmap=\"coolwarm\", ax=axs[0, 0])\n",
    "            axs[0, 0].set_title(\"Correlation Heatmap\")\n",
    "\n",
    "            # Scatter plot if there is a comparison    \n",
    "            if comparar_con and len(columnas) == 1:\n",
    "                axs[0, 1].scatter(df[columnas[0]], df[comparar_con], alpha=0.5)\n",
    "                axs[0, 1].set_title(f\"Scatter: {columnas[0]} vs {comparar_con}\")\n",
    "                axs[0, 1].set_xlabel(columnas[0])\n",
    "                axs[0, 1].set_ylabel(comparar_con)\n",
    "                axs[0, 1].grid(True)        \n",
    "\n",
    "            # Boxplot\n",
    "            sns.boxplot(y=df[columnas[0]], color=\"skyblue\", ax=axs[1, 0])\n",
    "            axs[1, 0].set_title(f\"Box Plot of {columnas[0]}\")\n",
    "\n",
    "            # Bars by month (if possible)\n",
    "            df[\"Mes\"] = df[\"Fecha\"].dt.month\n",
    "            df.groupby(\"Mes\")[columnas[0]].mean().plot(kind=\"bar\", ax=axs[1, 1])\n",
    "            axs[1, 1].set_title(f\"{columnas[0]} Monthly Average\")\n",
    "            axs[1, 1].set_xlabel(\"Month\")\n",
    "            axs[1, 1].set_ylabel(\"Average Value\")\n",
    "            axs[1, 1].grid(True)\n",
    "\n",
    "            # Adjust and display\n",
    "            plt.tight_layout()\n",
    "            plt.show()\n",
    "          \n",
    "    except Exception as e:\n",
    "        with output_plot:\n",
    "            print(f\"❌ Plotting Error: {e}\")\n",
    "\n",
    "# Function to update the view\n",
    "def update_display(change):\n",
    "    output_container.clear_output()\n",
    "    with output_container:\n",
    "        if selector.value == \"Graph View\":\n",
    "            display(widgets.HBox([sidebar, main_display]))\n",
    "        else:\n",
    "            display(widgets.HBox([sidebar, main_display2]))"
   ]
  },
  {
   "cell_type": "markdown",
   "id": "f19459ab",
   "metadata": {},
   "source": [
    "# WIDGETS"
   ]
  },
  {
   "cell_type": "code",
   "execution_count": 9,
   "id": "7700b118",
   "metadata": {},
   "outputs": [],
   "source": [
    "# Carga de archivo\n",
    "upload = widgets.FileUpload(accept='.csv,.xlsx', multiple=False)\n",
    "\n",
    "# Selectors\n",
    "column_selector = widgets.SelectMultiple(options=[], description=\"Columns:\", layout=widgets.Layout(width='100%'))\n",
    "compare_with_selector = widgets.Dropdown(options=[], description=\"Compare with:\", layout=widgets.Layout(width='100%'))\n",
    "date_range = widgets.SelectionRangeSlider(\n",
    "    description='Range:',\n",
    "    options=[datetime(2000, 1, 1), datetime(2000, 12, 31)],\n",
    "    value=(datetime(2000, 1, 1), datetime(2000, 12, 31)),\n",
    "    layout=widgets.Layout(width='100%'),\n",
    "    continuous_update=False\n",
    ")\n",
    "selector = widgets.ToggleButtons(\n",
    "    options=[\"Graph View\", \"Table & Stats\"], \n",
    "    button_style=\"\"\n",
    ")\n",
    "# Outputs\n",
    "output_info = widgets.Output()\n",
    "output_table = widgets.Output()\n",
    "output_plot = widgets.Output()\n",
    "stats_plot = widgets.Output()\n",
    "output_container = widgets.Output()\n",
    "\n",
    "# Global\n",
    "df_global = None\n",
    "\n",
    "# Eventos\n",
    "upload.observe(on_file_upload, names='value')\n",
    "column_selector.observe(visualizar_datos, names='value') \n",
    "compare_with_selector.observe(visualizar_datos, names='value') \n",
    "date_range.observe(visualizar_datos, names='value')\n",
    "selector.observe(update_display, names=\"value\")\n",
    "\n",
    "# Panel-style Layout: Columns\n",
    "sidebar = widgets.VBox([\n",
    "    widgets.Label(\"📁 Upload File\"),  \n",
    "    upload,\n",
    "    output_info,  \n",
    "    widgets.Label(\"📌 Columns to display\"),\n",
    "    column_selector,\n",
    "    widgets.Label(\"📈 Compare With\"),\n",
    "    compare_with_selector,\n",
    "    widgets.Label(\"📅 Date Range\"),\n",
    "    date_range\n",
    "], layout=widgets.Layout(width='30%', padding='10px'))\n",
    "\n",
    "main_display = widgets.VBox([\n",
    "    widgets.Label(\"📊 Graph View\"),\n",
    "    output_plot\n",
    "], layout=widgets.Layout(width='70%', padding='10px'))\n",
    "\n",
    "main_display2 = widgets.HBox([  \n",
    "    widgets.VBox([ widgets.Label(\"📋 Data Table\"), output_table ]),\n",
    "    widgets.VBox([ widgets.Label(\"📊 Descriptive Statistics for selected columns\"), stats_plot ])\n",
    "], layout=widgets.Layout(width='70%', padding='10px'))"
   ]
  },
  {
   "cell_type": "markdown",
   "id": "03c0899e",
   "metadata": {},
   "source": [
    "# DASHBOARD"
   ]
  },
  {
   "cell_type": "code",
   "execution_count": 10,
   "id": "99986508",
   "metadata": {},
   "outputs": [
    {
     "data": {
      "text/html": [
       "\n",
       "<div style=\"background-color:#1976D2; padding: 10px 20px; color: white; font-size: 24px; font-family: Arial; text-align: center;\">\n",
       "    🌍📊🌦️<b>Climate Data Dashboard</b>🌡️🌞🌧️\n",
       "</div>\n"
      ],
      "text/plain": [
       "<IPython.core.display.HTML object>"
      ]
     },
     "metadata": {},
     "output_type": "display_data"
    },
    {
     "data": {
      "application/vnd.jupyter.widget-view+json": {
       "model_id": "9a02e77d4df54b929b5577f3bcba3155",
       "version_major": 2,
       "version_minor": 0
      },
      "text/plain": [
       "ToggleButtons(options=('Graph View', 'Table & Stats'), value='Graph View')"
      ]
     },
     "metadata": {},
     "output_type": "display_data"
    },
    {
     "data": {
      "application/vnd.jupyter.widget-view+json": {
       "model_id": "d8383b69a7f34c72af88830c003fa23f",
       "version_major": 2,
       "version_minor": 0
      },
      "text/plain": [
       "Output()"
      ]
     },
     "metadata": {},
     "output_type": "display_data"
    }
   ],
   "source": [
    "# Header\n",
    "display(HTML(\"\"\"\n",
    "<div style=\"background-color:#1976D2; padding: 10px 20px; color: white; font-size: 24px; font-family: Arial; text-align: center;\">\n",
    "    🌍📊🌦️<b>Climate Data Dashboard</b>🌡️🌞🌧️\n",
    "</div>\n",
    "\"\"\"))\n",
    "\n",
    "# Display widgets\n",
    "display(selector, output_container)\n",
    "\n",
    "update_display(None)"
   ]
  }
 ],
 "metadata": {
  "kernelspec": {
   "display_name": "hw1_mcap",
   "language": "python",
   "name": "hw1_mcap"
  },
  "language_info": {
   "codemirror_mode": {
    "name": "ipython",
    "version": 3
   },
   "file_extension": ".py",
   "mimetype": "text/x-python",
   "name": "python",
   "nbconvert_exporter": "python",
   "pygments_lexer": "ipython3",
   "version": "3.12.6"
  }
 },
 "nbformat": 4,
 "nbformat_minor": 5
}
