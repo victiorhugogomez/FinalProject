{
 "cells": [
  {
   "cell_type": "markdown",
   "id": "43cffe1e",
   "metadata": {},
   "source": [
    "# FINAL PROJECT\n",
    "\n",
    "**Names:** -- Diana Zepeda Tatengo and Victor Hugo Gomez Soto --\n",
    "\n",
    "**e-mails:** -- diana.zepeda6085@alumnos.udg.mx and victor.gomez2701@alumnos.udg.mx --"
   ]
  },
  {
   "cell_type": "markdown",
   "id": "4be76906",
   "metadata": {},
   "source": [
    "# MODULES"
   ]
  },
  {
   "cell_type": "code",
   "execution_count": 2,
   "id": "a77ecdce",
   "metadata": {},
   "outputs": [],
   "source": [
    "import ipywidgets as widgets\n",
    "from IPython.display import display, HTML\n",
    "from datetime import datetime"
   ]
  },
  {
   "cell_type": "markdown",
   "id": "f19459ab",
   "metadata": {},
   "source": [
    "# WIDGETS"
   ]
  },
  {
   "cell_type": "code",
   "execution_count": null,
   "id": "7700b118",
   "metadata": {},
   "outputs": [
    {
     "ename": "NameError",
     "evalue": "name 'output_info' is not defined",
     "output_type": "error",
     "traceback": [
      "\u001b[1;31m---------------------------------------------------------------------------\u001b[0m",
      "\u001b[1;31mNameError\u001b[0m                                 Traceback (most recent call last)",
      "File \u001b[1;32mc:\\Users\\dell\\AppData\\Local\\Programs\\Python\\Python312\\Lib\\site-packages\\ipywidgets\\widgets\\widget.py:773\u001b[0m, in \u001b[0;36mWidget._handle_msg\u001b[1;34m(self, msg)\u001b[0m\n\u001b[0;32m    771\u001b[0m         \u001b[38;5;28;01mif\u001b[39;00m \u001b[38;5;124m'\u001b[39m\u001b[38;5;124mbuffer_paths\u001b[39m\u001b[38;5;124m'\u001b[39m \u001b[38;5;129;01min\u001b[39;00m data:\n\u001b[0;32m    772\u001b[0m             _put_buffers(state, data[\u001b[38;5;124m'\u001b[39m\u001b[38;5;124mbuffer_paths\u001b[39m\u001b[38;5;124m'\u001b[39m], msg[\u001b[38;5;124m'\u001b[39m\u001b[38;5;124mbuffers\u001b[39m\u001b[38;5;124m'\u001b[39m])\n\u001b[1;32m--> 773\u001b[0m         \u001b[38;5;28;43mself\u001b[39;49m\u001b[38;5;241;43m.\u001b[39;49m\u001b[43mset_state\u001b[49m\u001b[43m(\u001b[49m\u001b[43mstate\u001b[49m\u001b[43m)\u001b[49m\n\u001b[0;32m    775\u001b[0m \u001b[38;5;66;03m# Handle a state request.\u001b[39;00m\n\u001b[0;32m    776\u001b[0m \u001b[38;5;28;01melif\u001b[39;00m method \u001b[38;5;241m==\u001b[39m \u001b[38;5;124m'\u001b[39m\u001b[38;5;124mrequest_state\u001b[39m\u001b[38;5;124m'\u001b[39m:\n",
      "File \u001b[1;32mc:\\Users\\dell\\AppData\\Local\\Programs\\Python\\Python312\\Lib\\site-packages\\ipywidgets\\widgets\\widget.py:650\u001b[0m, in \u001b[0;36mWidget.set_state\u001b[1;34m(self, sync_data)\u001b[0m\n\u001b[0;32m    645\u001b[0m         \u001b[38;5;28mself\u001b[39m\u001b[38;5;241m.\u001b[39m_send(msg, buffers\u001b[38;5;241m=\u001b[39mecho_buffers)\n\u001b[0;32m    647\u001b[0m \u001b[38;5;66;03m# The order of these context managers is important. Properties must\u001b[39;00m\n\u001b[0;32m    648\u001b[0m \u001b[38;5;66;03m# be locked when the hold_trait_notification context manager is\u001b[39;00m\n\u001b[0;32m    649\u001b[0m \u001b[38;5;66;03m# released and notifications are fired.\u001b[39;00m\n\u001b[1;32m--> 650\u001b[0m \u001b[43m\u001b[49m\u001b[38;5;28;43;01mwith\u001b[39;49;00m\u001b[43m \u001b[49m\u001b[38;5;28;43mself\u001b[39;49m\u001b[38;5;241;43m.\u001b[39;49m\u001b[43m_lock_property\u001b[49m\u001b[43m(\u001b[49m\u001b[38;5;241;43m*\u001b[39;49m\u001b[38;5;241;43m*\u001b[39;49m\u001b[43msync_data\u001b[49m\u001b[43m)\u001b[49m\u001b[43m,\u001b[49m\u001b[43m \u001b[49m\u001b[38;5;28;43mself\u001b[39;49m\u001b[38;5;241;43m.\u001b[39;49m\u001b[43mhold_trait_notifications\u001b[49m\u001b[43m(\u001b[49m\u001b[43m)\u001b[49m\u001b[43m:\u001b[49m\n\u001b[0;32m    651\u001b[0m \u001b[43m    \u001b[49m\u001b[38;5;28;43;01mfor\u001b[39;49;00m\u001b[43m \u001b[49m\u001b[43mname\u001b[49m\u001b[43m \u001b[49m\u001b[38;5;129;43;01min\u001b[39;49;00m\u001b[43m \u001b[49m\u001b[43msync_data\u001b[49m\u001b[43m:\u001b[49m\n\u001b[0;32m    652\u001b[0m \u001b[43m        \u001b[49m\u001b[38;5;28;43;01mif\u001b[39;49;00m\u001b[43m \u001b[49m\u001b[43mname\u001b[49m\u001b[43m \u001b[49m\u001b[38;5;129;43;01min\u001b[39;49;00m\u001b[43m \u001b[49m\u001b[38;5;28;43mself\u001b[39;49m\u001b[38;5;241;43m.\u001b[39;49m\u001b[43mkeys\u001b[49m\u001b[43m:\u001b[49m\n",
      "File \u001b[1;32mc:\\Users\\dell\\AppData\\Local\\Programs\\Python\\Python312\\Lib\\contextlib.py:144\u001b[0m, in \u001b[0;36m_GeneratorContextManager.__exit__\u001b[1;34m(self, typ, value, traceback)\u001b[0m\n\u001b[0;32m    142\u001b[0m \u001b[38;5;28;01mif\u001b[39;00m typ \u001b[38;5;129;01mis\u001b[39;00m \u001b[38;5;28;01mNone\u001b[39;00m:\n\u001b[0;32m    143\u001b[0m     \u001b[38;5;28;01mtry\u001b[39;00m:\n\u001b[1;32m--> 144\u001b[0m         \u001b[38;5;28;43mnext\u001b[39;49m\u001b[43m(\u001b[49m\u001b[38;5;28;43mself\u001b[39;49m\u001b[38;5;241;43m.\u001b[39;49m\u001b[43mgen\u001b[49m\u001b[43m)\u001b[49m\n\u001b[0;32m    145\u001b[0m     \u001b[38;5;28;01mexcept\u001b[39;00m \u001b[38;5;167;01mStopIteration\u001b[39;00m:\n\u001b[0;32m    146\u001b[0m         \u001b[38;5;28;01mreturn\u001b[39;00m \u001b[38;5;28;01mFalse\u001b[39;00m\n",
      "File \u001b[1;32mc:\\Users\\dell\\AppData\\Local\\Programs\\Python\\Python312\\Lib\\site-packages\\traitlets\\traitlets.py:1510\u001b[0m, in \u001b[0;36mHasTraits.hold_trait_notifications\u001b[1;34m(self)\u001b[0m\n\u001b[0;32m   1508\u001b[0m \u001b[38;5;28;01mfor\u001b[39;00m changes \u001b[38;5;129;01min\u001b[39;00m cache\u001b[38;5;241m.\u001b[39mvalues():\n\u001b[0;32m   1509\u001b[0m     \u001b[38;5;28;01mfor\u001b[39;00m change \u001b[38;5;129;01min\u001b[39;00m changes:\n\u001b[1;32m-> 1510\u001b[0m         \u001b[38;5;28;43mself\u001b[39;49m\u001b[38;5;241;43m.\u001b[39;49m\u001b[43mnotify_change\u001b[49m\u001b[43m(\u001b[49m\u001b[43mchange\u001b[49m\u001b[43m)\u001b[49m\n",
      "File \u001b[1;32mc:\\Users\\dell\\AppData\\Local\\Programs\\Python\\Python312\\Lib\\site-packages\\ipywidgets\\widgets\\widget.py:701\u001b[0m, in \u001b[0;36mWidget.notify_change\u001b[1;34m(self, change)\u001b[0m\n\u001b[0;32m    698\u001b[0m     \u001b[38;5;28;01mif\u001b[39;00m name \u001b[38;5;129;01min\u001b[39;00m \u001b[38;5;28mself\u001b[39m\u001b[38;5;241m.\u001b[39mkeys \u001b[38;5;129;01mand\u001b[39;00m \u001b[38;5;28mself\u001b[39m\u001b[38;5;241m.\u001b[39m_should_send_property(name, \u001b[38;5;28mgetattr\u001b[39m(\u001b[38;5;28mself\u001b[39m, name)):\n\u001b[0;32m    699\u001b[0m         \u001b[38;5;66;03m# Send new state to front-end\u001b[39;00m\n\u001b[0;32m    700\u001b[0m         \u001b[38;5;28mself\u001b[39m\u001b[38;5;241m.\u001b[39msend_state(key\u001b[38;5;241m=\u001b[39mname)\n\u001b[1;32m--> 701\u001b[0m \u001b[38;5;28;43msuper\u001b[39;49m\u001b[43m(\u001b[49m\u001b[43m)\u001b[49m\u001b[38;5;241;43m.\u001b[39;49m\u001b[43mnotify_change\u001b[49m\u001b[43m(\u001b[49m\u001b[43mchange\u001b[49m\u001b[43m)\u001b[49m\n",
      "File \u001b[1;32mc:\\Users\\dell\\AppData\\Local\\Programs\\Python\\Python312\\Lib\\site-packages\\traitlets\\traitlets.py:1525\u001b[0m, in \u001b[0;36mHasTraits.notify_change\u001b[1;34m(self, change)\u001b[0m\n\u001b[0;32m   1523\u001b[0m \u001b[38;5;28;01mdef\u001b[39;00m \u001b[38;5;21mnotify_change\u001b[39m(\u001b[38;5;28mself\u001b[39m, change: Bunch) \u001b[38;5;241m-\u001b[39m\u001b[38;5;241m>\u001b[39m \u001b[38;5;28;01mNone\u001b[39;00m:\n\u001b[0;32m   1524\u001b[0m \u001b[38;5;250m    \u001b[39m\u001b[38;5;124;03m\"\"\"Notify observers of a change event\"\"\"\u001b[39;00m\n\u001b[1;32m-> 1525\u001b[0m     \u001b[38;5;28;01mreturn\u001b[39;00m \u001b[38;5;28;43mself\u001b[39;49m\u001b[38;5;241;43m.\u001b[39;49m\u001b[43m_notify_observers\u001b[49m\u001b[43m(\u001b[49m\u001b[43mchange\u001b[49m\u001b[43m)\u001b[49m\n",
      "File \u001b[1;32mc:\\Users\\dell\\AppData\\Local\\Programs\\Python\\Python312\\Lib\\site-packages\\traitlets\\traitlets.py:1568\u001b[0m, in \u001b[0;36mHasTraits._notify_observers\u001b[1;34m(self, event)\u001b[0m\n\u001b[0;32m   1565\u001b[0m \u001b[38;5;28;01melif\u001b[39;00m \u001b[38;5;28misinstance\u001b[39m(c, EventHandler) \u001b[38;5;129;01mand\u001b[39;00m c\u001b[38;5;241m.\u001b[39mname \u001b[38;5;129;01mis\u001b[39;00m \u001b[38;5;129;01mnot\u001b[39;00m \u001b[38;5;28;01mNone\u001b[39;00m:\n\u001b[0;32m   1566\u001b[0m     c \u001b[38;5;241m=\u001b[39m \u001b[38;5;28mgetattr\u001b[39m(\u001b[38;5;28mself\u001b[39m, c\u001b[38;5;241m.\u001b[39mname)\n\u001b[1;32m-> 1568\u001b[0m \u001b[43mc\u001b[49m\u001b[43m(\u001b[49m\u001b[43mevent\u001b[49m\u001b[43m)\u001b[49m\n",
      "Cell \u001b[1;32mIn[3], line 18\u001b[0m, in \u001b[0;36mon_file_upload\u001b[1;34m(change)\u001b[0m\n\u001b[0;32m     16\u001b[0m \u001b[38;5;28;01mdef\u001b[39;00m \u001b[38;5;21mon_file_upload\u001b[39m(change):\n\u001b[0;32m     17\u001b[0m     \u001b[38;5;28;01mglobal\u001b[39;00m df_global\n\u001b[1;32m---> 18\u001b[0m     \u001b[43moutput_info\u001b[49m\u001b[38;5;241m.\u001b[39mclear_output()\n\u001b[0;32m     19\u001b[0m     output_table\u001b[38;5;241m.\u001b[39mclear_output()\n\u001b[0;32m     20\u001b[0m     output_plot\u001b[38;5;241m.\u001b[39mclear_output()\n",
      "\u001b[1;31mNameError\u001b[0m: name 'output_info' is not defined"
     ]
    }
   ],
   "source": [
    "# Carga de archivo\n",
    "upload = widgets.FileUpload(accept='.csv,.xlsx', multiple=False)\n",
    "\n",
    "# Selectors\n",
    "column_selector = widgets.SelectMultiple(options=[], description=\"Columns:\", layout=widgets.Layout(width='100%'))\n",
    "compare_with_selector = widgets.Dropdown(options=[], description=\"Compare with:\", layout=widgets.Layout(width='100%'))\n",
    "date_range = widgets.SelectionRangeSlider(\n",
    "    description='Range:',\n",
    "    options=[datetime(2000, 1, 1), datetime(2000, 12, 31)],\n",
    "    value=(datetime(2000, 1, 1), datetime(2000, 12, 31)),\n",
    "    layout=widgets.Layout(width='100%'),\n",
    "    continuous_update=False\n",
    ")\n",
    "# Outputs\n",
    "output_info = widgets.Output()\n",
    "output_table = widgets.Output()\n",
    "output_plot = widgets.Output()\n",
    "# Global\n",
    "df_global = None\n",
    "\n",
    "# Función de carga\n",
    "def on_file_upload(change):\n",
    "    global df_global\n",
    "    output_info.clear_output()\n",
    "    output_table.clear_output()\n",
    "    output_plot.clear_output()\n",
    "\n",
    "    if upload.value:\n",
    "        uploaded_file = upload.value[0]\n",
    "        content = uploaded_file['content']\n",
    "        filename = uploaded_file['name']\n",
    "\n",
    "\n",
    "        try:\n",
    "            if filename.endswith('.csv'):\n",
    "                df = pd.read_csv(pd.io.common.BytesIO(content))\n",
    "            else:\n",
    "                df = pd.read_excel(pd.io.common.BytesIO(content))\n",
    "\n",
    "            df.columns = df.columns.str.strip()\n",
    "\n",
    "            if all(col in df.columns for col in [\"Year\", \"Month\", \"Day\"]):\n",
    "                df[\"Fecha\"] = pd.to_datetime(df[[\"Year\", \"Month\", \"Day\"]])\n",
    "                df = df.sort_values(\"Fecha\")\n",
    "            else:\n",
    "                raise ValueError(\"Se requieren las columnas 'Year', 'Month' y 'Day'.\")\n",
    "\n",
    "            df_global = df\n",
    "\n",
    "            columnas_numericas = df.select_dtypes(include='number').columns.tolist()\n",
    "            columnas_numericas = [col for col in columnas_numericas if col not in [\"Year\", \"Month\", \"Day\"]]\n",
    "            column_selector.options = columnas_numericas\n",
    "            compare_with_selector.options = columnas_numericas\n",
    "            if columnas_numericas:\n",
    "                column_selector.value = tuple(columnas_numericas[:1])\n",
    "                compare_with_selector.value = columnas_numericas[1] if len(columnas_numericas) > 1 else None\n",
    "\n",
    "            fechas_unicas = df[\"Fecha\"].sort_values().unique()\n",
    "            date_range.options = list(fechas_unicas)\n",
    "            date_range.value = (fechas_unicas[0], fechas_unicas[-1])\n",
    "\n",
    "            with output_info:\n",
    "                print(f\"✅ Archivo cargado: {filename}\")\n",
    "        except Exception as e:\n",
    "            with output_info:\n",
    "                print(f\"❌ Error: {e}\")\n",
    "# Eventos\n",
    "upload.observe(on_file_upload, names='value')\n",
    "\n",
    "# Panel-style Layout: Columns\n",
    "sidebar = widgets.VBox([\n",
    "    widgets.Label(\"📁 Upload File\"),  \n",
    "    upload,\n",
    "    output_info,  \n",
    "    widgets.Label(\"📌 Columns to display\"),\n",
    "    column_selector,\n",
    "    widgets.Label(\"📈 Compare With\"),\n",
    "    compare_with_selector,\n",
    "    widgets.Label(\"📅 Date Range\"),\n",
    "    date_range\n",
    "], layout=widgets.Layout(width='30%', padding='10px'))"
   ]
  },
  {
   "cell_type": "markdown",
   "id": "03c0899e",
   "metadata": {},
   "source": [
    "# DASHBOARD"
   ]
  },
  {
   "cell_type": "code",
   "execution_count": 4,
   "id": "99986508",
   "metadata": {},
   "outputs": [
    {
     "data": {
      "text/html": [
       "\n",
       "<div style=\"background-color:#1976D2; padding: 10px 20px; color: white; font-size: 24px; font-family: Arial; text-align: center;\">\n",
       "    🌍📊🌦️<b>Climate Data Dashboard</b>🌡️🌞🌧️\n",
       "</div>\n"
      ],
      "text/plain": [
       "<IPython.core.display.HTML object>"
      ]
     },
     "metadata": {},
     "output_type": "display_data"
    },
    {
     "data": {
      "application/vnd.jupyter.widget-view+json": {
       "model_id": "0aaa9a508b804dceb7e919130982e911",
       "version_major": 2,
       "version_minor": 0
      },
      "text/plain": [
       "VBox(children=(Label(value='📁 Upload File'), FileUpload(value=(), accept='.csv,.xlsx', description='Upload'), …"
      ]
     },
     "metadata": {},
     "output_type": "display_data"
    }
   ],
   "source": [
    "# Header\n",
    "display(HTML(\"\"\"\n",
    "<div style=\"background-color:#1976D2; padding: 10px 20px; color: white; font-size: 24px; font-family: Arial; text-align: center;\">\n",
    "    🌍📊🌦️<b>Climate Data Dashboard</b>🌡️🌞🌧️\n",
    "</div>\n",
    "\"\"\"))\n",
    "\n",
    "# Display widgets\n",
    "display(sidebar)"
   ]
  }
 ],
 "metadata": {
  "kernelspec": {
   "display_name": "Python 3",
   "language": "python",
   "name": "python3"
  },
  "language_info": {
   "codemirror_mode": {
    "name": "ipython",
    "version": 3
   },
   "file_extension": ".py",
   "mimetype": "text/x-python",
   "name": "python",
   "nbconvert_exporter": "python",
   "pygments_lexer": "ipython3",
   "version": "3.12.6"
  }
 },
 "nbformat": 4,
 "nbformat_minor": 5
}
