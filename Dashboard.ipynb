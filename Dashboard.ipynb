{
 "cells": [
  {
   "cell_type": "markdown",
   "id": "43cffe1e",
   "metadata": {},
   "source": [
    "# FINAL PROJECT\n",
    "\n",
    "**Names:** -- Diana Zepeda Tatengo and Victor Hugo Gomez Soto --\n",
    "\n",
    "**e-mails:** -- diana.zepeda6085@alumnos.udg.mx and victor.gomez2701@alumnos.udg.mx --"
   ]
  },
  {
   "cell_type": "markdown",
   "id": "4be76906",
   "metadata": {},
   "source": [
    "# MODULES"
   ]
  },
  {
   "cell_type": "code",
   "execution_count": null,
   "id": "a77ecdce",
   "metadata": {},
   "outputs": [],
   "source": [
    "import ipywidgets as widgets\n",
    "from IPython.display import display, HTML\n",
    "from datetime import datetime"
   ]
  },
  {
   "cell_type": "markdown",
   "id": "f19459ab",
   "metadata": {},
   "source": [
    "# WIDGETS"
   ]
  },
  {
   "cell_type": "code",
   "execution_count": null,
   "id": "7700b118",
   "metadata": {},
   "outputs": [],
   "source": [
    "# Selectors\n",
    "column_selector = widgets.SelectMultiple(options=[], description=\"Columns:\", layout=widgets.Layout(width='100%'))\n",
    "compare_with_selector = widgets.Dropdown(options=[], description=\"Compare with:\", layout=widgets.Layout(width='100%'))\n",
    "date_range = widgets.SelectionRangeSlider(\n",
    "    description='Range:',\n",
    "    options=[datetime(2000, 1, 1), datetime(2000, 12, 31)],\n",
    "    value=(datetime(2000, 1, 1), datetime(2000, 12, 31)),\n",
    "    layout=widgets.Layout(width='100%'),\n",
    "    continuous_update=False\n",
    ")\n",
    "# Panel-style Layout: Columns\n",
    "sidebar = widgets.VBox([\n",
    "    widgets.Label(\"📁 Upload File\"),    \n",
    "    widgets.Label(\"📌 Columns to display\"),\n",
    "    column_selector,\n",
    "    widgets.Label(\"📈 Compare With\"),\n",
    "    compare_with_selector,\n",
    "    widgets.Label(\"📅 Date Range\"),\n",
    "    date_range\n",
    "], layout=widgets.Layout(width='30%', padding='10px'))"
   ]
  },
  {
   "cell_type": "markdown",
   "id": "03c0899e",
   "metadata": {},
   "source": [
    "# DASHBOARD"
   ]
  },
  {
   "cell_type": "code",
   "execution_count": null,
   "id": "99986508",
   "metadata": {},
   "outputs": [],
   "source": [
    "# Display widgets\n",
    "display(sidebar)"
   ]
  }
 ],
 "metadata": {
  "kernelspec": {
   "display_name": "hw1_mcap",
   "language": "python",
   "name": "hw1_mcap"
  },
  "language_info": {
   "codemirror_mode": {
    "name": "ipython",
    "version": 3
   },
   "file_extension": ".py",
   "mimetype": "text/x-python",
   "name": "python",
   "nbconvert_exporter": "python",
   "pygments_lexer": "ipython3",
   "version": "3.12.6"
  }
 },
 "nbformat": 4,
 "nbformat_minor": 5
}
