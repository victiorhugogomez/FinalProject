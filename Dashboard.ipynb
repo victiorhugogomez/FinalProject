{
 "cells": [
  {
   "cell_type": "markdown",
   "id": "43cffe1e",
   "metadata": {},
   "source": [
    "# FINAL PROJECT\n",
    "\n",
    "**Names:** -- Diana Zepeda Tatengo and Victor Hugo Gomez Soto --\n",
    "\n",
    "**e-mails:** -- diana.zepeda6085@alumnos.udg.mx and victor.gomez2701@alumnos.udg.mx --"
   ]
  },
  {
   "cell_type": "markdown",
   "id": "4be76906",
   "metadata": {},
   "source": [
    "# MODULES"
   ]
  },
  {
   "cell_type": "code",
   "execution_count": null,
   "id": "a77ecdce",
   "metadata": {},
   "outputs": [],
   "source": [
    "import ipywidgets as widgets\n",
    "from IPython.display import display, HTML\n",
    "from datetime import datetime"
   ]
  },
  {
   "cell_type": "markdown",
   "id": "f19459ab",
   "metadata": {},
   "source": [
    "# WIDGETS"
   ]
  },
  {
   "cell_type": "code",
   "execution_count": null,
   "id": "7700b118",
   "metadata": {},
   "outputs": [],
   "source": [
    "# Carga de archivo\n",
    "upload = widgets.FileUpload(accept='.csv,.xlsx', multiple=False)\n",
    "\n",
    "# Selectors\n",
    "column_selector = widgets.SelectMultiple(options=[], description=\"Columns:\", layout=widgets.Layout(width='100%'))\n",
    "compare_with_selector = widgets.Dropdown(options=[], description=\"Compare with:\", layout=widgets.Layout(width='100%'))\n",
    "date_range = widgets.SelectionRangeSlider(\n",
    "    description='Range:',\n",
    "    options=[datetime(2000, 1, 1), datetime(2000, 12, 31)],\n",
    "    value=(datetime(2000, 1, 1), datetime(2000, 12, 31)),\n",
    "    layout=widgets.Layout(width='100%'),\n",
    "    continuous_update=False\n",
    ")\n",
    "\n",
    "# Función de carga\n",
    "def on_file_upload(change):\n",
    "    global df_global\n",
    "    output_info.clear_output()\n",
    "    output_table.clear_output()\n",
    "    output_plot.clear_output()\n",
    "\n",
    "    if upload.value:\n",
    "        uploaded_file = upload.value[0]\n",
    "        content = uploaded_file['content']\n",
    "        filename = uploaded_file['name']\n",
    "\n",
    "\n",
    "        try:\n",
    "            if filename.endswith('.csv'):\n",
    "                df = pd.read_csv(pd.io.common.BytesIO(content))\n",
    "            else:\n",
    "                df = pd.read_excel(pd.io.common.BytesIO(content))\n",
    "\n",
    "            df.columns = df.columns.str.strip()\n",
    "\n",
    "            if all(col in df.columns for col in [\"Year\", \"Month\", \"Day\"]):\n",
    "                df[\"Fecha\"] = pd.to_datetime(df[[\"Year\", \"Month\", \"Day\"]])\n",
    "                df = df.sort_values(\"Fecha\")\n",
    "            else:\n",
    "                raise ValueError(\"Se requieren las columnas 'Year', 'Month' y 'Day'.\")\n",
    "\n",
    "            df_global = df\n",
    "\n",
    "            columnas_numericas = df.select_dtypes(include='number').columns.tolist()\n",
    "            columnas_numericas = [col for col in columnas_numericas if col not in [\"Year\", \"Month\", \"Day\"]]\n",
    "            column_selector.options = columnas_numericas\n",
    "            comparar_con_selector.options = columnas_numericas\n",
    "            if columnas_numericas:\n",
    "                column_selector.value = tuple(columnas_numericas[:1])\n",
    "                comparar_con_selector.value = columnas_numericas[1] if len(columnas_numericas) > 1 else None\n",
    "\n",
    "            fechas_unicas = df[\"Fecha\"].sort_values().unique()\n",
    "            date_range.options = list(fechas_unicas)\n",
    "            date_range.value = (fechas_unicas[0], fechas_unicas[-1])\n",
    "\n",
    "            with output_info:\n",
    "                print(f\"✅ Archivo cargado: {filename}\")\n",
    "        except Exception as e:\n",
    "            with output_info:\n",
    "                print(f\"❌ Error: {e}\")\n",
    "# Eventos\n",
    "upload.observe(on_file_upload, names='value')\n",
    "\n",
    "# Panel-style Layout: Columns\n",
    "sidebar = widgets.VBox([\n",
    "    widgets.Label(\"📁 Upload File\"),  \n",
    "    upload  \n",
    "    widgets.Label(\"📌 Columns to display\"),\n",
    "    column_selector,\n",
    "    widgets.Label(\"📈 Compare With\"),\n",
    "    compare_with_selector,\n",
    "    widgets.Label(\"📅 Date Range\"),\n",
    "    date_range\n",
    "], layout=widgets.Layout(width='30%', padding='10px'))"
   ]
  },
  {
   "cell_type": "markdown",
   "id": "03c0899e",
   "metadata": {},
   "source": [
    "# DASHBOARD"
   ]
  },
  {
   "cell_type": "code",
   "execution_count": null,
   "id": "99986508",
   "metadata": {},
   "outputs": [],
   "source": [
    "# Header\n",
    "display(HTML(\"\"\"\n",
    "<div style=\"background-color:#1976D2; padding: 10px 20px; color: white; font-size: 24px; font-family: Arial; text-align: center;\">\n",
    "    🌍📊🌦️<b>Climate Data Dashboard</b>🌡️🌞🌧️\n",
    "</div>\n",
    "\"\"\"))\n",
    "\n",
    "# Display widgets\n",
    "display(sidebar)"
   ]
  }
 ],
 "metadata": {
  "kernelspec": {
   "display_name": "hw1_mcap",
   "language": "python",
   "name": "hw1_mcap"
  },
  "language_info": {
   "codemirror_mode": {
    "name": "ipython",
    "version": 3
   },
   "file_extension": ".py",
   "mimetype": "text/x-python",
   "name": "python",
   "nbconvert_exporter": "python",
   "pygments_lexer": "ipython3",
   "version": "3.12.6"
  }
 },
 "nbformat": 4,
 "nbformat_minor": 5
}
